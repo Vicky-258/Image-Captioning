{
 "cells": [
  {
   "cell_type": "code",
   "id": "initial_id",
   "metadata": {
    "collapsed": true,
    "ExecuteTime": {
     "end_time": "2024-10-19T08:47:19.099131Z",
     "start_time": "2024-10-19T08:47:17.585342Z"
    }
   },
   "source": [
    "import torch\n",
    "import json\n",
    "\n",
    "# Load the extracted features (list of tensors)\n",
    "all_features = torch.load('image_features.pt', weights_only=True)  # This is a list of tensors\n",
    "image_name_to_index = torch.load('image_name_to_index.pt', weights_only=True)\n",
    "\n",
    "# Load the captions dictionary\n",
    "with open('captions_dict.json', 'r') as f:\n",
    "    caption_sequences = json.load(f)\n",
    "\n",
    "# Load the vocabulary\n",
    "with open('vocabulary.json', 'r') as vocab_file:\n",
    "    vocabulary = json.load(vocab_file)\n",
    "\n",
    "# Debug prints to confirm loading\n",
    "print(f\"Loaded {len(all_features)} features.\")\n",
    "print(f\"Loaded {len(caption_sequences)} captions.\")\n",
    "print(f\"Loaded {len(vocabulary)} words in the vocabulary.\")"
   ],
   "outputs": [
    {
     "name": "stdout",
     "output_type": "stream",
     "text": [
      "Loaded 8091 features.\n",
      "Loaded 8091 captions.\n",
      "Loaded 8517 words in the vocabulary.\n"
     ]
    }
   ],
   "execution_count": 16
  },
  {
   "metadata": {
    "ExecuteTime": {
     "end_time": "2024-10-19T08:35:14.751697Z",
     "start_time": "2024-10-19T08:35:13.227660Z"
    }
   },
   "cell_type": "code",
   "outputs": [
    {
     "data": {
      "text/plain": [
       "<Figure size 640x480 with 1 Axes>"
      ],
      "image/png": "[encoded data removed]"
     },
     "metadata": {},
     "output_type": "display_data"
    }
   ],
   "execution_count": 3,
   "source": [
    "import matplotlib.pyplot as plt\n",
    "\n",
    "lengths = [len(caption) for caption in caption_sequences]\n",
    "plt.hist(lengths, bins=30)\n",
    "plt.xlabel('Caption Length')\n",
    "plt.ylabel('Frequency')\n",
    "plt.title('Distribution of Caption Lengths')\n",
    "plt.show()\n"
   ],
   "id": "b7d0b644fe244ecc"
  },
  {
   "metadata": {
    "ExecuteTime": {
     "end_time": "2024-10-19T08:35:16.064355Z",
     "start_time": "2024-10-19T08:35:16.051409Z"
    }
   },
   "cell_type": "code",
   "source": [
    "# Check the number of captions for each image\n",
    "caption_counts = [len(captions) for captions in caption_sequences.values()]\n",
    "\n",
    "# Print the total number of images and the count of captions for the first 10 images\n",
    "print(f\"Number of images: {len(caption_counts)}\")\n",
    "print(f\"Number of captions per image (first 10): {caption_counts[:10]}\")\n"
   ],
   "id": "c025a08f586355b2",
   "outputs": [
    {
     "name": "stdout",
     "output_type": "stream",
     "text": [
      "Number of images: 8091\n",
      "Number of captions per image (first 10): [5, 5, 5, 5, 5, 5, 5, 3, 5, 5]\n"
     ]
    }
   ],
   "execution_count": 4
  },
  {
   "metadata": {
    "ExecuteTime": {
     "end_time": "2024-10-19T08:35:18.854119Z",
     "start_time": "2024-10-19T08:35:17.135098Z"
    }
   },
   "cell_type": "code",
   "source": [
    "import torch\n",
    "from torch.nn.utils.rnn import pad_sequence\n",
    "\n",
    "def pad_captions(caption_sequences, max_length=21):\n",
    "    # Determine the maximum number of captions for any image\n",
    "    max_num_captions = max(len(captions) for captions in caption_sequences.values())\n",
    "    \n",
    "    padded_captions = []\n",
    "    \n",
    "    for captions in caption_sequences.values():\n",
    "        padded_for_image = []\n",
    "        \n",
    "        for caption in captions:\n",
    "            # Convert caption to tensor\n",
    "            tensor_caption = torch.tensor(\n",
    "                [int(word) if isinstance(word, str) and word.isdigit() else word for word in caption],\n",
    "                dtype=torch.long\n",
    "            )\n",
    "            # Truncate or pad\n",
    "            if tensor_caption.size(0) < max_length:\n",
    "                tensor_caption = torch.cat((tensor_caption, torch.zeros(max_length - tensor_caption.size(0), dtype=torch.long)))\n",
    "            else:\n",
    "                tensor_caption = tensor_caption[:max_length]  # truncate if too long\n",
    "            \n",
    "            padded_for_image.append(tensor_caption)\n",
    "\n",
    "        # Pad the list of captions to the maximum number of captions for this image\n",
    "        padded_for_image = pad_sequence(padded_for_image, batch_first=True)\n",
    "        \n",
    "        # If there are fewer captions than the max, pad the whole tensor to the maximum number of captions\n",
    "        if padded_for_image.size(0) < max_num_captions:\n",
    "            # Pad with zeros for missing captions\n",
    "            padding_needed = max_num_captions - padded_for_image.size(0)\n",
    "            padded_for_image = torch.cat((padded_for_image, torch.zeros(padding_needed, max_length, dtype=torch.long)))\n",
    "\n",
    "        padded_captions.append(padded_for_image)\n",
    "\n",
    "    # Convert to a single tensor\n",
    "    return torch.stack(padded_captions)\n",
    "\n",
    "max_length = 21\n",
    "padded_captions = pad_captions(caption_sequences, max_length)\n",
    "print(f\"Padded captions shape: {padded_captions.shape}\")  # Should be (num_images, max_num_captions, max_length)\n"
   ],
   "id": "19e9469766aa6224",
   "outputs": [
    {
     "name": "stdout",
     "output_type": "stream",
     "text": [
      "Padded captions shape: torch.Size([8091, 5, 21])\n"
     ]
    }
   ],
   "execution_count": 5
  },
  {
   "metadata": {
    "ExecuteTime": {
     "end_time": "2024-10-19T08:35:19.794954Z",
     "start_time": "2024-10-19T08:35:19.776366Z"
    }
   },
   "cell_type": "code",
   "source": [
    "# Check the number of features\n",
    "num_features = len(all_features)\n",
    "print(f\"Number of features: {num_features}\")\n",
    "\n",
    "# Check the number of padded captions\n",
    "num_padded_captions = len(padded_captions)  # This should be a list now\n",
    "print(f\"Number of padded captions: {num_padded_captions}\")\n",
    "\n",
    "# Check the shape of the first padded caption (if they all have the same shape)\n",
    "if num_padded_captions > 0:\n",
    "    first_caption_shape = padded_captions[0][0].shape  # Get the shape of the first padded caption tensor\n",
    "    print(f\"Shape of the first padded caption: {first_caption_shape}\")\n",
    "\n",
    "# Ensure they match the number of images\n",
    "if num_features == len(caption_sequences):\n",
    "    print(\"The number of features matches the number of images.\")\n",
    "else:\n",
    "    print(\"Mismatch detected between features and images!\")\n"
   ],
   "id": "be4ae07154358635",
   "outputs": [
    {
     "name": "stdout",
     "output_type": "stream",
     "text": [
      "Number of features: 8091\n",
      "Number of padded captions: 8091\n",
      "Shape of the first padded caption: torch.Size([21])\n",
      "The number of features matches the number of images.\n"
     ]
    }
   ],
   "execution_count": 6
  },
  {
   "metadata": {
    "ExecuteTime": {
     "end_time": "2024-10-19T08:35:20.945688Z",
     "start_time": "2024-10-19T08:35:20.932236Z"
    }
   },
   "cell_type": "code",
   "source": [
    "from torch.utils.data import Dataset\n",
    "\n",
    "class ImageCaptionDataset(Dataset):\n",
    "    def __init__(self, features, padded_captions, name_to_index, transform=None):\n",
    "        self.features = features  # List of feature tensors\n",
    "        self.padded_captions = padded_captions  # List of lists for padded captions\n",
    "        self.name_to_index = name_to_index  # Dictionary mapping image names to indices\n",
    "        self.transform = transform\n",
    "\n",
    "    def __len__(self):\n",
    "        return len(self.features)  # Return the number of images\n",
    "\n",
    "    def __getitem__(self, idx):\n",
    "        image_feature = self.features[idx]  # Access feature directly as it's a list\n",
    "        caption = self.padded_captions[idx]  # Index padded captions list using the same idx\n",
    "\n",
    "        if self.transform:\n",
    "            image_feature = self.transform(image_feature)\n",
    "\n",
    "        return image_feature, caption\n"
   ],
   "id": "5084872bcccba9b6",
   "outputs": [],
   "execution_count": 7
  },
  {
   "metadata": {
    "ExecuteTime": {
     "end_time": "2024-10-19T08:35:24.852994Z",
     "start_time": "2024-10-19T08:35:21.689099Z"
    }
   },
   "cell_type": "code",
   "outputs": [
    {
     "name": "stdout",
     "output_type": "stream",
     "text": [
      "Number of features: 8091\n",
      "Number of padded captions: 8091\n",
      "Training set size: 6472\n",
      "Testing set size: 1619\n"
     ]
    }
   ],
   "execution_count": 8,
   "source": [
    "from sklearn.model_selection import train_test_split\n",
    "\n",
    "# Create a list of image names to ensure proper alignment\n",
    "image_names = list(caption_sequences.keys())  # Get all image names\n",
    "\n",
    "# Create corresponding features and captions lists\n",
    "features_list = [all_features[i] for i in range(len(image_names))]\n",
    "captions_list = [caption_sequences[name] for name in image_names]  # Ensure alignment with features\n",
    "\n",
    "# Now pad the captions and convert them to tensors\n",
    "max_length = 21  # Set this to your desired max length\n",
    "padded_captions = pad_captions(caption_sequences, max_length)\n",
    "\n",
    "# Check if we have the same number of features and images\n",
    "print(f\"Number of features: {len(features_list)}\")  # Should be 8091\n",
    "print(f\"Number of padded captions: {len(padded_captions)}\")  # Should also be 8091\n",
    "\n",
    "# Create the dataset\n",
    "dataset = ImageCaptionDataset(features_list, padded_captions, image_name_to_index)\n",
    "\n",
    "# Split the dataset (80% train, 20% test)\n",
    "train_size = int(0.8 * len(dataset))\n",
    "test_size = len(dataset) - train_size\n",
    "train_dataset, test_dataset = torch.utils.data.random_split(dataset, [train_size, test_size])\n",
    "\n",
    "# Print the sizes of the training and testing sets\n",
    "print(f\"Training set size: {len(train_dataset)}\")\n",
    "print(f\"Testing set size: {len(test_dataset)}\")\n",
    "\n"
   ],
   "id": "5597436670776dc3"
  },
  {
   "metadata": {
    "ExecuteTime": {
     "end_time": "2024-10-19T08:35:26.321523Z",
     "start_time": "2024-10-19T08:35:26.313900Z"
    }
   },
   "cell_type": "code",
   "source": [
    "def collate_fn(batch):\n",
    "    features, captions = zip(*batch)  # Unzip the batch into features and captions\n",
    "    features = torch.stack(features)  # Convert features to a tensor\n",
    "    padded_captions = torch.nn.utils.rnn.pad_sequence(captions, batch_first=True)  # Pad captions\n",
    "    return features, padded_captions\n"
   ],
   "id": "be2e044f59313f1e",
   "outputs": [],
   "execution_count": 9
  },
  {
   "metadata": {
    "ExecuteTime": {
     "end_time": "2024-10-19T08:35:27.275819Z",
     "start_time": "2024-10-19T08:35:27.255829Z"
    }
   },
   "cell_type": "code",
   "source": [
    "from torch.utils.data import DataLoader\n",
    "\n",
    "# Create data loaders for training and testing sets\n",
    "train_loader = DataLoader(train_dataset, batch_size=32, shuffle=True, collate_fn=collate_fn)\n",
    "test_loader = DataLoader(test_dataset, batch_size=32, shuffle=False, collate_fn=collate_fn)\n"
   ],
   "id": "fdc0d2f372a1d572",
   "outputs": [],
   "execution_count": 10
  },
  {
   "metadata": {
    "ExecuteTime": {
     "end_time": "2024-10-19T08:35:28.000529Z",
     "start_time": "2024-10-19T08:35:27.984422Z"
    }
   },
   "cell_type": "code",
   "source": [
    "import torch\n",
    "import torch.nn as nn\n",
    "\n",
    "class ShowTellModel(nn.Module):\n",
    "    def __init__(self, vocab_size, embedding_dim, hidden_dim, num_layers, dropout_prob):\n",
    "        super(ShowTellModel, self).__init__()\n",
    "\n",
    "        # Image feature embedding\n",
    "        self.img_fc = nn.Linear(1000, embedding_dim)  # Ensure feature_dim is 1000 or adjust accordingly\n",
    "\n",
    "        # Word embedding\n",
    "        self.embedding = nn.Embedding(vocab_size, embedding_dim)\n",
    "\n",
    "        # LSTM for caption generation\n",
    "        self.lstm = nn.LSTM(embedding_dim, hidden_dim, num_layers=num_layers, dropout=dropout_prob, batch_first=True)\n",
    "\n",
    "        # Fully connected layer to map LSTM output to the vocabulary size\n",
    "        self.fc = nn.Linear(hidden_dim, vocab_size)\n",
    "\n",
    "        # Dropout layer (optional)\n",
    "        self.dropout = nn.Dropout(dropout_prob)\n",
    "\n",
    "    def forward(self, image_features, captions):\n",
    "        # Process image features\n",
    "        img_embedding = self.img_fc(image_features).unsqueeze(1)  # [batch_size, 1, embedding_dim]\n",
    "        \n",
    "        # Process caption embeddings\n",
    "        cap_embedding = self.embedding(captions)  # [batch_size, num_captions, seq_length, embedding_dim]\n",
    "        \n",
    "        # Print shapes for debugging\n",
    "        print(f\"Image embedding shape: {img_embedding.shape}\")\n",
    "        print(f\"Caption embedding shape: {cap_embedding.shape}\")\n",
    "        \n",
    "        # Adjust the dimensions of cap_embedding\n",
    "        # Option 1: Squeeze the first dimension (num_captions) if you want to process a single caption\n",
    "        # cap_embedding = cap_embedding.squeeze(1)  # [batch_size, seq_length, embedding_dim]\n",
    "        \n",
    "        # Option 2: Reshape cap_embedding to match the dimensions needed for concatenation\n",
    "        cap_embedding = cap_embedding.view(cap_embedding.size(0), -1, cap_embedding.size(3))  # [batch_size, num_captions*seq_length, embedding_dim]\n",
    "        \n",
    "        # Now, cap_embedding should have 3 dimensions to match img_embedding\n",
    "        embeddings = torch.cat((img_embedding.repeat(1, cap_embedding.size(1), 1), cap_embedding), dim=1)  # Concatenate\n",
    "        \n",
    "        # Pass through LSTM\n",
    "        lstm_out, _ = self.lstm(embeddings)\n",
    "    \n",
    "        # Pass through fully connected layer to get final output\n",
    "        outputs = self.fc(lstm_out)\n",
    "    \n",
    "        return outputs\n"
   ],
   "id": "3072f6c495da57d1",
   "outputs": [],
   "execution_count": 11
  },
  {
   "metadata": {
    "ExecuteTime": {
     "end_time": "2024-10-19T08:35:29.215201Z",
     "start_time": "2024-10-19T08:35:29.112718Z"
    }
   },
   "cell_type": "code",
   "source": [
    "# Initialize the model\n",
    "vocab_size = 8517  # You mentioned the vocabulary size\n",
    "embedding_dim = 256  # Can be adjusted based on your preference\n",
    "hidden_dim = 512     # Size of the hidden state in the RNN/LSTM\n",
    "num_layers = 2       # Number of layers in LSTM\n",
    "dropout_prob = 0.5   # Dropout probability\n",
    "\n",
    "model = ShowTellModel(vocab_size, embedding_dim, hidden_dim, num_layers, dropout_prob)\n",
    "print(\"Model initialized!\")\n"
   ],
   "id": "f724d1a7372ee99e",
   "outputs": [
    {
     "name": "stdout",
     "output_type": "stream",
     "text": [
      "Model initialized!\n"
     ]
    }
   ],
   "execution_count": 12
  },
  {
   "metadata": {
    "ExecuteTime": {
     "end_time": "2024-10-19T08:35:29.985979Z",
     "start_time": "2024-10-19T08:35:29.974012Z"
    }
   },
   "cell_type": "code",
   "source": [
    "import torch.nn as nn\n",
    "\n",
    "# Define the loss function\n",
    "loss_function = nn.CrossEntropyLoss()\n"
   ],
   "id": "65c2cef1e1575bf9",
   "outputs": [],
   "execution_count": 13
  },
  {
   "metadata": {
    "ExecuteTime": {
     "end_time": "2024-10-19T08:35:32.369218Z",
     "start_time": "2024-10-19T08:35:30.923902Z"
    }
   },
   "cell_type": "code",
   "source": [
    "import torch.optim as optim\n",
    "\n",
    "# Initialize the optimizer\n",
    "optimizer = optim.Adam(model.parameters(), lr=0.001)\n"
   ],
   "id": "21da83ceb7e66166",
   "outputs": [],
   "execution_count": 14
  },
  {
   "metadata": {
    "ExecuteTime": {
     "end_time": "2024-10-19T08:35:35.180502Z",
     "start_time": "2024-10-19T08:35:33.002121Z"
    }
   },
   "cell_type": "code",
   "source": [
    "num_epochs = 10  # Set the number of epochs\n",
    "\n",
    "for epoch in range(num_epochs):\n",
    "    model.train()  # Set the model to training mode\n",
    "    \n",
    "    for images, captions in train_loader:\n",
    "        optimizer.zero_grad()  # Zero the gradients\n",
    "        \n",
    "        # Forward pass\n",
    "        outputs = model(images, captions)\n",
    "        \n",
    "        # After computing the outputs from your model\n",
    "        outputs = outputs.view(-1, outputs.size(-1))  # Shape: [batch_size * sequence_length, vocab_size]\n",
    "        captions = captions.view(-1)  # This will flatten it to [32 * 5 * 21]\n",
    "        print(f\"Outputs shape: {outputs.shape}\")  # Should be [batch_size * sequence_length, vocab_size]\n",
    "        print(f\"Captions shape: {captions.shape}\")  # Should be [batch_size * sequence_length]\n",
    "\n",
    "        loss = loss_function(outputs, captions)\n",
    "\n",
    "        \n",
    "        # Backward pass and optimization\n",
    "        loss.backward()\n",
    "        optimizer.step()\n",
    "        \n",
    "        # Print the loss for tracking\n",
    "        print(f\"Epoch [{epoch + 1}/{num_epochs}], Loss: {loss.item():.4f}\")\n"
   ],
   "id": "f84dec2482701c9e",
   "outputs": [
    {
     "name": "stdout",
     "output_type": "stream",
     "text": [
      "Image embedding shape: torch.Size([32, 1, 256])\n",
      "Caption embedding shape: torch.Size([32, 5, 21, 256])\n",
      "Outputs shape: torch.Size([6720, 8517])\n",
      "Captions shape: torch.Size([3360])\n"
     ]
    },
    {
     "ename": "ValueError",
     "evalue": "Expected input batch_size (6720) to match target batch_size (3360).",
     "output_type": "error",
     "traceback": [
      "\u001B[1;31m---------------------------------------------------------------------------\u001B[0m",
      "\u001B[1;31mValueError\u001B[0m                                Traceback (most recent call last)",
      "Cell \u001B[1;32mIn[15], line 18\u001B[0m\n\u001B[0;32m     15\u001B[0m \u001B[38;5;28mprint\u001B[39m(\u001B[38;5;124mf\u001B[39m\u001B[38;5;124m\"\u001B[39m\u001B[38;5;124mOutputs shape: \u001B[39m\u001B[38;5;132;01m{\u001B[39;00moutputs\u001B[38;5;241m.\u001B[39mshape\u001B[38;5;132;01m}\u001B[39;00m\u001B[38;5;124m\"\u001B[39m)  \u001B[38;5;66;03m# Should be [batch_size * sequence_length, vocab_size]\u001B[39;00m\n\u001B[0;32m     16\u001B[0m \u001B[38;5;28mprint\u001B[39m(\u001B[38;5;124mf\u001B[39m\u001B[38;5;124m\"\u001B[39m\u001B[38;5;124mCaptions shape: \u001B[39m\u001B[38;5;132;01m{\u001B[39;00mcaptions\u001B[38;5;241m.\u001B[39mshape\u001B[38;5;132;01m}\u001B[39;00m\u001B[38;5;124m\"\u001B[39m)  \u001B[38;5;66;03m# Should be [batch_size * sequence_length]\u001B[39;00m\n\u001B[1;32m---> 18\u001B[0m loss \u001B[38;5;241m=\u001B[39m \u001B[43mloss_function\u001B[49m\u001B[43m(\u001B[49m\u001B[43moutputs\u001B[49m\u001B[43m,\u001B[49m\u001B[43m \u001B[49m\u001B[43mcaptions\u001B[49m\u001B[43m)\u001B[49m\n\u001B[0;32m     21\u001B[0m \u001B[38;5;66;03m# Backward pass and optimization\u001B[39;00m\n\u001B[0;32m     22\u001B[0m loss\u001B[38;5;241m.\u001B[39mbackward()\n",
      "File \u001B[1;32mV:\\Codes\\Python\\ImageCaption\\.venv\\Lib\\site-packages\\torch\\nn\\modules\\module.py:1553\u001B[0m, in \u001B[0;36mModule._wrapped_call_impl\u001B[1;34m(self, *args, **kwargs)\u001B[0m\n\u001B[0;32m   1551\u001B[0m     \u001B[38;5;28;01mreturn\u001B[39;00m \u001B[38;5;28mself\u001B[39m\u001B[38;5;241m.\u001B[39m_compiled_call_impl(\u001B[38;5;241m*\u001B[39margs, \u001B[38;5;241m*\u001B[39m\u001B[38;5;241m*\u001B[39mkwargs)  \u001B[38;5;66;03m# type: ignore[misc]\u001B[39;00m\n\u001B[0;32m   1552\u001B[0m \u001B[38;5;28;01melse\u001B[39;00m:\n\u001B[1;32m-> 1553\u001B[0m     \u001B[38;5;28;01mreturn\u001B[39;00m \u001B[38;5;28;43mself\u001B[39;49m\u001B[38;5;241;43m.\u001B[39;49m\u001B[43m_call_impl\u001B[49m\u001B[43m(\u001B[49m\u001B[38;5;241;43m*\u001B[39;49m\u001B[43margs\u001B[49m\u001B[43m,\u001B[49m\u001B[43m \u001B[49m\u001B[38;5;241;43m*\u001B[39;49m\u001B[38;5;241;43m*\u001B[39;49m\u001B[43mkwargs\u001B[49m\u001B[43m)\u001B[49m\n",
      "File \u001B[1;32mV:\\Codes\\Python\\ImageCaption\\.venv\\Lib\\site-packages\\torch\\nn\\modules\\module.py:1562\u001B[0m, in \u001B[0;36mModule._call_impl\u001B[1;34m(self, *args, **kwargs)\u001B[0m\n\u001B[0;32m   1557\u001B[0m \u001B[38;5;66;03m# If we don't have any hooks, we want to skip the rest of the logic in\u001B[39;00m\n\u001B[0;32m   1558\u001B[0m \u001B[38;5;66;03m# this function, and just call forward.\u001B[39;00m\n\u001B[0;32m   1559\u001B[0m \u001B[38;5;28;01mif\u001B[39;00m \u001B[38;5;129;01mnot\u001B[39;00m (\u001B[38;5;28mself\u001B[39m\u001B[38;5;241m.\u001B[39m_backward_hooks \u001B[38;5;129;01mor\u001B[39;00m \u001B[38;5;28mself\u001B[39m\u001B[38;5;241m.\u001B[39m_backward_pre_hooks \u001B[38;5;129;01mor\u001B[39;00m \u001B[38;5;28mself\u001B[39m\u001B[38;5;241m.\u001B[39m_forward_hooks \u001B[38;5;129;01mor\u001B[39;00m \u001B[38;5;28mself\u001B[39m\u001B[38;5;241m.\u001B[39m_forward_pre_hooks\n\u001B[0;32m   1560\u001B[0m         \u001B[38;5;129;01mor\u001B[39;00m _global_backward_pre_hooks \u001B[38;5;129;01mor\u001B[39;00m _global_backward_hooks\n\u001B[0;32m   1561\u001B[0m         \u001B[38;5;129;01mor\u001B[39;00m _global_forward_hooks \u001B[38;5;129;01mor\u001B[39;00m _global_forward_pre_hooks):\n\u001B[1;32m-> 1562\u001B[0m     \u001B[38;5;28;01mreturn\u001B[39;00m \u001B[43mforward_call\u001B[49m\u001B[43m(\u001B[49m\u001B[38;5;241;43m*\u001B[39;49m\u001B[43margs\u001B[49m\u001B[43m,\u001B[49m\u001B[43m \u001B[49m\u001B[38;5;241;43m*\u001B[39;49m\u001B[38;5;241;43m*\u001B[39;49m\u001B[43mkwargs\u001B[49m\u001B[43m)\u001B[49m\n\u001B[0;32m   1564\u001B[0m \u001B[38;5;28;01mtry\u001B[39;00m:\n\u001B[0;32m   1565\u001B[0m     result \u001B[38;5;241m=\u001B[39m \u001B[38;5;28;01mNone\u001B[39;00m\n",
      "File \u001B[1;32mV:\\Codes\\Python\\ImageCaption\\.venv\\Lib\\site-packages\\torch\\nn\\modules\\loss.py:1188\u001B[0m, in \u001B[0;36mCrossEntropyLoss.forward\u001B[1;34m(self, input, target)\u001B[0m\n\u001B[0;32m   1187\u001B[0m \u001B[38;5;28;01mdef\u001B[39;00m \u001B[38;5;21mforward\u001B[39m(\u001B[38;5;28mself\u001B[39m, \u001B[38;5;28minput\u001B[39m: Tensor, target: Tensor) \u001B[38;5;241m-\u001B[39m\u001B[38;5;241m>\u001B[39m Tensor:\n\u001B[1;32m-> 1188\u001B[0m     \u001B[38;5;28;01mreturn\u001B[39;00m \u001B[43mF\u001B[49m\u001B[38;5;241;43m.\u001B[39;49m\u001B[43mcross_entropy\u001B[49m\u001B[43m(\u001B[49m\u001B[38;5;28;43minput\u001B[39;49m\u001B[43m,\u001B[49m\u001B[43m \u001B[49m\u001B[43mtarget\u001B[49m\u001B[43m,\u001B[49m\u001B[43m \u001B[49m\u001B[43mweight\u001B[49m\u001B[38;5;241;43m=\u001B[39;49m\u001B[38;5;28;43mself\u001B[39;49m\u001B[38;5;241;43m.\u001B[39;49m\u001B[43mweight\u001B[49m\u001B[43m,\u001B[49m\n\u001B[0;32m   1189\u001B[0m \u001B[43m                           \u001B[49m\u001B[43mignore_index\u001B[49m\u001B[38;5;241;43m=\u001B[39;49m\u001B[38;5;28;43mself\u001B[39;49m\u001B[38;5;241;43m.\u001B[39;49m\u001B[43mignore_index\u001B[49m\u001B[43m,\u001B[49m\u001B[43m \u001B[49m\u001B[43mreduction\u001B[49m\u001B[38;5;241;43m=\u001B[39;49m\u001B[38;5;28;43mself\u001B[39;49m\u001B[38;5;241;43m.\u001B[39;49m\u001B[43mreduction\u001B[49m\u001B[43m,\u001B[49m\n\u001B[0;32m   1190\u001B[0m \u001B[43m                           \u001B[49m\u001B[43mlabel_smoothing\u001B[49m\u001B[38;5;241;43m=\u001B[39;49m\u001B[38;5;28;43mself\u001B[39;49m\u001B[38;5;241;43m.\u001B[39;49m\u001B[43mlabel_smoothing\u001B[49m\u001B[43m)\u001B[49m\n",
      "File \u001B[1;32mV:\\Codes\\Python\\ImageCaption\\.venv\\Lib\\site-packages\\torch\\nn\\functional.py:3104\u001B[0m, in \u001B[0;36mcross_entropy\u001B[1;34m(input, target, weight, size_average, ignore_index, reduce, reduction, label_smoothing)\u001B[0m\n\u001B[0;32m   3102\u001B[0m \u001B[38;5;28;01mif\u001B[39;00m size_average \u001B[38;5;129;01mis\u001B[39;00m \u001B[38;5;129;01mnot\u001B[39;00m \u001B[38;5;28;01mNone\u001B[39;00m \u001B[38;5;129;01mor\u001B[39;00m reduce \u001B[38;5;129;01mis\u001B[39;00m \u001B[38;5;129;01mnot\u001B[39;00m \u001B[38;5;28;01mNone\u001B[39;00m:\n\u001B[0;32m   3103\u001B[0m     reduction \u001B[38;5;241m=\u001B[39m _Reduction\u001B[38;5;241m.\u001B[39mlegacy_get_string(size_average, reduce)\n\u001B[1;32m-> 3104\u001B[0m \u001B[38;5;28;01mreturn\u001B[39;00m \u001B[43mtorch\u001B[49m\u001B[38;5;241;43m.\u001B[39;49m\u001B[43m_C\u001B[49m\u001B[38;5;241;43m.\u001B[39;49m\u001B[43m_nn\u001B[49m\u001B[38;5;241;43m.\u001B[39;49m\u001B[43mcross_entropy_loss\u001B[49m\u001B[43m(\u001B[49m\u001B[38;5;28;43minput\u001B[39;49m\u001B[43m,\u001B[49m\u001B[43m \u001B[49m\u001B[43mtarget\u001B[49m\u001B[43m,\u001B[49m\u001B[43m \u001B[49m\u001B[43mweight\u001B[49m\u001B[43m,\u001B[49m\u001B[43m \u001B[49m\u001B[43m_Reduction\u001B[49m\u001B[38;5;241;43m.\u001B[39;49m\u001B[43mget_enum\u001B[49m\u001B[43m(\u001B[49m\u001B[43mreduction\u001B[49m\u001B[43m)\u001B[49m\u001B[43m,\u001B[49m\u001B[43m \u001B[49m\u001B[43mignore_index\u001B[49m\u001B[43m,\u001B[49m\u001B[43m \u001B[49m\u001B[43mlabel_smoothing\u001B[49m\u001B[43m)\u001B[49m\n",
      "\u001B[1;31mValueError\u001B[0m: Expected input batch_size (6720) to match target batch_size (3360)."
     ]
    }
   ],
   "execution_count": 15
  },
  {
   "metadata": {},
   "cell_type": "code",
   "outputs": [],
   "execution_count": null,
   "source": "",
   "id": "1997a2fc52aa0852"
  }
 ],
 "metadata": {
  "kernelspec": {
   "display_name": "Python 3",
   "language": "python",
   "name": "python3"
  },
  "language_info": {
   "codemirror_mode": {
    "name": "ipython",
    "version": 2
   },
   "file_extension": ".py",
   "mimetype": "text/x-python",
   "name": "python",
   "nbconvert_exporter": "python",
   "pygments_lexer": "ipython2",
   "version": "2.7.6"
  }
 },
 "nbformat": 4,
 "nbformat_minor": 5
}
